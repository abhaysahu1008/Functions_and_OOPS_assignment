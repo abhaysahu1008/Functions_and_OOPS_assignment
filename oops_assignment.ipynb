{
 "cells": [
  {
   "cell_type": "markdown",
   "id": "3898544d-6a71-4032-a07a-95519dcb77c3",
   "metadata": {},
   "source": [
    "#1.Explain the importance of Functions.\n",
    "'''Functions are like reusable tools in programming. They let you write a piece of code once and use it wherever you need it.\n",
    "This makes your code cleaner, easier to manage, and less repetitive. By breaking down complex problems into smaller functions,\n",
    "you can tackle each part separately, which helps with debugging and makes your code easier to understand.'''\n"
   ]
  },
  {
   "cell_type": "code",
   "execution_count": 10,
   "id": "96602d6b-4069-44e8-beba-c75bd0303c19",
   "metadata": {},
   "outputs": [
    {
     "name": "stdout",
     "output_type": "stream",
     "text": [
      "Hello, Alice! Welcome to the class.\n"
     ]
    }
   ],
   "source": [
    "#2. Write a basic function to greet student.\n",
    "def greet_student(name):\n",
    "    print(f\"Hello, {name}! Welcome to the class.\")\n",
    "\n",
    "# Example usage\n",
    "greet_student(\"Alice\")\n"
   ]
  },
  {
   "cell_type": "markdown",
   "id": "8c2da340-d360-44cb-9821-fca1e49627b8",
   "metadata": {},
   "source": [
    "#3. What is the difference between print and return statement.\n",
    "'''print Statement\n",
    "Purpose: Outputs information to the console or terminal.\n",
    "Usage: Used for displaying values, messages, or debugging information.\n",
    "Effect: Shows the result on the screen but does not affect the function's output or what the function returns.'''\n",
    "\n",
    "#Example:\n",
    "def greet(name):\n",
    "    print(f\"Hello, {name}!\")\n",
    "\n",
    "greet(\"Alice\")  # This will print: Hello, Alice!\n",
    "\n",
    "return Statement\n",
    "Purpose: Ends the execution of a function and optionally passes back a value to the caller.\n",
    "Usage: Used to provide the result of a function or to exit a function early.\n",
    "Effect: The function's output can be stored in a variable or used in further calculations.\n",
    "\n",
    "#Example:\n",
    "def add(a, b):\n",
    "    return a + b\n",
    "\n",
    "result = add(3, 4)  # The function returns 7, which is stored in the variable 'result'"
   ]
  },
  {
   "cell_type": "markdown",
   "id": "5f0dabe5-e590-4ab3-a1ec-f97010823310",
   "metadata": {},
   "source": [
    "#4.What arre *args and **kwargs.\n",
    "\n",
    "'''*args\n",
    "Purpose: Allows a function to accept any number of positional arguments.\n",
    "Syntax: *args is used in the function definition to collect extra positional arguments into a tuple.'''\n",
    "\n",
    "#Example:\n",
    "\n",
    "def greet(*names):\n",
    "    for name in names:\n",
    "        print(f\"Hello, {name}!\")\n",
    "\n",
    "greet(\"Alice\", \"Bob\", \"Charlie\")\n",
    "\n",
    "\"\"\"**kwargs\n",
    "Purpose: Allows a function to accept any number of keyword arguments (i.e., arguments with names).\n",
    "Syntax: **kwargs is used in the function definition to collect extra keyword arguments into a dictionary.\"\"\"\n",
    "\n",
    "#Example:\n",
    "\n",
    "def print_info(**info):\n",
    "    for key, value in info.items():\n",
    "        print(f\"{key}: {value}\")\n",
    "\n",
    "print_info(name=\"Alice\", age=25, city=\"New York\")\n",
    "\n"
   ]
  },
  {
   "cell_type": "markdown",
   "id": "6c4ba701-425a-4c5b-9cb5-df024923e1dd",
   "metadata": {},
   "source": [
    "5.Explain the iterator function.\n",
    "### Iterator Definition\n",
    "\n",
    "An **iterator** is an object that allows you to traverse through a sequence of elements, one at a time. \n",
    "\n",
    "To be an iterator, an object must implement two methods:\n",
    "- `__iter__()`: Returns the iterator object itself.\n",
    "- `__next__()`: Returns the next item in the sequence and raises `StopIteration` when there are no more items.\n",
    "\n",
    "Here's a simple example of a custom iterator:\n",
    "\n"
   ]
  },
  {
   "cell_type": "code",
   "execution_count": 1,
   "id": "06278f6e-ce8e-469a-98f8-762a0f8f7f6a",
   "metadata": {},
   "outputs": [
    {
     "name": "stdout",
     "output_type": "stream",
     "text": [
      "1\n",
      "4\n",
      "9\n",
      "16\n",
      "25\n",
      "36\n",
      "49\n",
      "64\n",
      "81\n",
      "100\n"
     ]
    }
   ],
   "source": [
    "#6. Write a code that generates the squares of numbers from 1 to n using a generator.\n",
    "def generate_squares(n):\n",
    "    for i in range(1, n + 1):\n",
    "        yield i * i\n",
    "\n",
    "# Example usage\n",
    "n = 10\n",
    "for square in generate_squares(n):\n",
    "    print(square)\n"
   ]
  },
  {
   "cell_type": "code",
   "execution_count": 2,
   "id": "acff39ef-4887-4ce5-a881-3faa643b598d",
   "metadata": {},
   "outputs": [
    {
     "name": "stdout",
     "output_type": "stream",
     "text": [
      "1\n",
      "2\n",
      "3\n",
      "4\n",
      "5\n",
      "6\n",
      "7\n",
      "8\n",
      "9\n",
      "11\n",
      "22\n",
      "33\n",
      "44\n",
      "55\n",
      "66\n",
      "77\n",
      "88\n",
      "99\n"
     ]
    }
   ],
   "source": [
    "#7.Write a code that generates palindromic numbers up to n using a generator. \n",
    "def generate_palindromes(n):\n",
    "    for i in range(1, n + 1):\n",
    "        if str(i) == str(i)[::-1]:\n",
    "            yield i\n",
    "\n",
    "# Example usage\n",
    "n = 100\n",
    "for palindrome in generate_palindromes(n):\n",
    "    print(palindrome)\n"
   ]
  },
  {
   "cell_type": "code",
   "execution_count": 3,
   "id": "52641986-998c-4ad7-ad88-f1b981791959",
   "metadata": {},
   "outputs": [
    {
     "name": "stdout",
     "output_type": "stream",
     "text": [
      "2\n",
      "4\n",
      "6\n",
      "8\n",
      "10\n",
      "12\n",
      "14\n",
      "16\n",
      "18\n",
      "20\n"
     ]
    }
   ],
   "source": [
    "#8. Write a code that generates even numbers from 2 to n using a generator.\n",
    "def generate_even_numbers(n):\n",
    "    for i in range(2, n + 1, 2):\n",
    "        yield i\n",
    "\n",
    "# Example usage\n",
    "n = 20\n",
    "for even in generate_even_numbers(n):\n",
    "    print(even)\n"
   ]
  },
  {
   "cell_type": "code",
   "execution_count": 4,
   "id": "b4f6aeea-a216-4e22-9f55-f6c83a1999e1",
   "metadata": {},
   "outputs": [
    {
     "name": "stdout",
     "output_type": "stream",
     "text": [
      "1\n",
      "2\n",
      "4\n",
      "8\n",
      "16\n",
      "32\n",
      "64\n"
     ]
    }
   ],
   "source": [
    "#9. Write a code that generates powers of two up to n using a generator.\n",
    "def generate_powers_of_two(n):\n",
    "    i = 0\n",
    "    while 2**i <= n:\n",
    "        yield 2**i\n",
    "        i += 1\n",
    "\n",
    "# Example usage\n",
    "n = 100\n",
    "for power in generate_powers_of_two(n):\n",
    "    print(power)\n"
   ]
  },
  {
   "cell_type": "code",
   "execution_count": 5,
   "id": "eec1b2fc-17fd-4d27-97f7-77d71757da0f",
   "metadata": {},
   "outputs": [
    {
     "name": "stdout",
     "output_type": "stream",
     "text": [
      "2\n",
      "3\n",
      "5\n",
      "7\n",
      "11\n",
      "13\n",
      "17\n",
      "19\n",
      "23\n",
      "29\n",
      "31\n",
      "37\n",
      "41\n",
      "43\n",
      "47\n"
     ]
    }
   ],
   "source": [
    "#10.  Write a code that generates prime numbers up to n using a generator.\n",
    "def generate_primes(n):\n",
    "    def is_prime(num):\n",
    "        if num < 2:\n",
    "            return False\n",
    "        for i in range(2, int(num**0.5) + 1):\n",
    "            if num % i == 0:\n",
    "                return False\n",
    "        return True\n",
    "    \n",
    "    for i in range(2, n + 1):\n",
    "        if is_prime(i):\n",
    "            yield i\n",
    "\n",
    "# Example usage\n",
    "n = 50\n",
    "for prime in generate_primes(n):\n",
    "    print(prime)\n"
   ]
  },
  {
   "cell_type": "code",
   "execution_count": 6,
   "id": "dfc9271d-dc51-44c6-b5f6-329aff38144c",
   "metadata": {},
   "outputs": [
    {
     "name": "stdout",
     "output_type": "stream",
     "text": [
      "8\n"
     ]
    }
   ],
   "source": [
    "#11.Write a code that uses a lambda function to calculate the sum of two numbers.\n",
    "sum_numbers = lambda x, y: x + y\n",
    "\n",
    "# Example usage\n",
    "result = sum_numbers(3, 5)\n",
    "print(result)  \n"
   ]
  },
  {
   "cell_type": "code",
   "execution_count": 7,
   "id": "64333010-c188-438f-a237-193d3f092348",
   "metadata": {},
   "outputs": [
    {
     "name": "stdout",
     "output_type": "stream",
     "text": [
      "16\n"
     ]
    }
   ],
   "source": [
    "#12. Write a code that uses a lambda function to calculate the square of a given number.\n",
    "square = lambda x: x * x\n",
    "\n",
    "# Example usage\n",
    "result = square(4)\n",
    "print(result) \n"
   ]
  },
  {
   "cell_type": "code",
   "execution_count": 8,
   "id": "83bd4e26-8e72-4299-a0e1-993ba5e09a00",
   "metadata": {},
   "outputs": [
    {
     "name": "stdout",
     "output_type": "stream",
     "text": [
      "Odd\n"
     ]
    }
   ],
   "source": [
    "#13. Write a code that uses a lambda function to check whether a given number is even or odd.\n",
    "is_even = lambda x: x % 2 == 0\n",
    "\n",
    "# Example usage\n",
    "result = is_even(5)\n",
    "print(\"Even\" if result else \"Odd\")  \n"
   ]
  },
  {
   "cell_type": "code",
   "execution_count": 9,
   "id": "15ee930a-a8cd-4d1e-9c22-5e2924ccfa18",
   "metadata": {},
   "outputs": [
    {
     "name": "stdout",
     "output_type": "stream",
     "text": [
      "Hello, World!\n"
     ]
    }
   ],
   "source": [
    "#15.  Write a code that uses a lambda function to concatenate two strings.\n",
    "concatenate = lambda s1, s2: s1 + s2\n",
    "\n",
    "# Example usage\n",
    "result = concatenate(\"Hello, \", \"World!\")\n",
    "print(result) \n"
   ]
  },
  {
   "cell_type": "code",
   "execution_count": 10,
   "id": "fa783656-2815-4a9f-8403-eb70b9e105ca",
   "metadata": {},
   "outputs": [
    {
     "name": "stdout",
     "output_type": "stream",
     "text": [
      "7\n"
     ]
    }
   ],
   "source": [
    "#16. Write a code that uses a lambda function to find the maximum of three given numbers.\n",
    "max_of_three = lambda x, y, z: max(x, y, z)\n",
    "\n",
    "# Example usage\n",
    "result = max_of_three(3, 7, 5)\n",
    "print(result)  \n"
   ]
  },
  {
   "cell_type": "code",
   "execution_count": 11,
   "id": "bac72e91-3aff-43d3-bffd-61646a8082fe",
   "metadata": {},
   "outputs": [
    {
     "name": "stdout",
     "output_type": "stream",
     "text": [
      "[4, 16, 36, 64, 100]\n"
     ]
    }
   ],
   "source": [
    "#17.   Write a code that generates the squares of even numbers from a given list.\n",
    "numbers = [1, 2, 3, 4, 5, 6, 7, 8, 9, 10]\n",
    "squares_of_even = list(map(lambda x: x * x, filter(lambda x: x % 2 == 0, numbers)))\n",
    "\n",
    "print(squares_of_even)  \n"
   ]
  },
  {
   "cell_type": "code",
   "execution_count": 12,
   "id": "568d1af2-78d2-4ad9-8526-654c474007e8",
   "metadata": {},
   "outputs": [
    {
     "name": "stdout",
     "output_type": "stream",
     "text": [
      "40\n"
     ]
    }
   ],
   "source": [
    "#18.  Write a code that calculates the product of positive numbers from a given list.\n",
    "from functools import reduce\n",
    "\n",
    "numbers = [-1, 2, -3, 4, 5]\n",
    "product_of_positive = reduce(lambda x, y: x * y, filter(lambda x: x > 0, numbers), 1)\n",
    "\n",
    "print(product_of_positive)  \n"
   ]
  },
  {
   "cell_type": "code",
   "execution_count": 13,
   "id": "f48b177e-668a-4fa5-a7cf-ce17d24a3a82",
   "metadata": {},
   "outputs": [
    {
     "name": "stdout",
     "output_type": "stream",
     "text": [
      "[2, 2, 6, 4, 10]\n"
     ]
    }
   ],
   "source": [
    "#19.  Write a code that doubles the values of odd numbers from a given list.\n",
    "numbers = [1, 2, 3, 4, 5]\n",
    "doubled_odds = list(map(lambda x: x * 2 if x % 2 != 0 else x, numbers))\n",
    "\n",
    "print(doubled_odds)  \n"
   ]
  },
  {
   "cell_type": "code",
   "execution_count": 14,
   "id": "d856a502-b4d0-4a40-9a25-25e7bf7318de",
   "metadata": {},
   "outputs": [
    {
     "name": "stdout",
     "output_type": "stream",
     "text": [
      "100\n"
     ]
    }
   ],
   "source": [
    "#20.  Write a code that calculates the sum of cubes of numbers from a given list.\n",
    "numbers = [1, 2, 3, 4]\n",
    "sum_of_cubes = sum(map(lambda x: x ** 3, numbers))\n",
    "\n",
    "print(sum_of_cubes)  \n"
   ]
  },
  {
   "cell_type": "code",
   "execution_count": 11,
   "id": "7de333e8-e5b3-4b88-8aa1-46a7e122def6",
   "metadata": {},
   "outputs": [],
   "source": [
    "#21. Write a code that filters out prime numbers from a given list.\n",
    "def is_prime(n):\n",
    "    if n <= 1:\n",
    "        return False\n",
    "    for i in range(2, int(n**0.5) + 1):\n",
    "        if n % i == 0:\n",
    "            return False\n",
    "    return True\n",
    "\n",
    "numbers = [2, 3, 4, 5, 6, 7, 8, 9, 10]\n",
    "primes = list(filter(is_prime, numbers))\n",
    "print(primes)\n"
   ]
  },
  {
   "cell_type": "code",
   "execution_count": 15,
   "id": "e33645bb-7f1d-4ac1-9353-f6d79171ff1d",
   "metadata": {},
   "outputs": [],
   "source": [
    "#22.  Write a code that uses a lambda function to calculate the sum of two numbers\n",
    "sum_func = lambda x, y: x + y\n",
    "print(sum_func(3, 5))\n"
   ]
  },
  {
   "cell_type": "code",
   "execution_count": 16,
   "id": "e17aab40-85e5-4355-bde8-e0a8a2cc0fdd",
   "metadata": {},
   "outputs": [],
   "source": [
    "#23. Write a code that uses a lambda function to calculate the square of a given number.\n",
    "square_func = lambda x: x * x\n",
    "print(square_func(4))\n"
   ]
  },
  {
   "cell_type": "code",
   "execution_count": 17,
   "id": "1bfbc330-1ab2-4cf2-9d78-eb4a79b60e68",
   "metadata": {},
   "outputs": [],
   "source": [
    "#24. Write a code that uses a lambda function to check whether a given number is even or odd.\n",
    "is_even = lambda x: x % 2 == 0\n",
    "print(is_even(4))  # True\n",
    "print(is_even(5))  # False\n"
   ]
  },
  {
   "cell_type": "code",
   "execution_count": 18,
   "id": "1b11f3c4-f1db-40b9-8391-b6572f6ae5d4",
   "metadata": {},
   "outputs": [],
   "source": [
    "#25. Write a code that uses a lambda function to concatenate two strings.\n",
    "concat_func = lambda s1, s2: s1 + s2\n",
    "print(concat_func(\"Hello, \", \"World!\"))\n"
   ]
  },
  {
   "cell_type": "code",
   "execution_count": 19,
   "id": "bbc4da71-d920-4a33-a0cb-b169a118c229",
   "metadata": {},
   "outputs": [],
   "source": [
    "#26.  Write a code that uses a lambda function to find the maximum of three given numbers.\n",
    "max_func = lambda x, y, z: max(x, y, z)\n",
    "print(max_func(3, 5, 1))\n"
   ]
  },
  {
   "cell_type": "markdown",
   "id": "6e7916de-e457-40a6-bbc7-e1115d69df56",
   "metadata": {},
   "source": [
    "Question 27:\n",
    "Encapsulation is the concept of bundling data (attributes) and methods (functions) that operate on the data into a single unit, or class, while restricting access to some of the object's components. This is typically achieved using access modifiers like private, protected, and public.\n",
    "\n",
    "Benefits:\n",
    "\n",
    "Control access: Controls how data is accessed and modified.\n",
    "Protect data: Prevents unauthorized access.\n",
    "Maintainability: Makes the code easier to maintain and modify.\n",
    "Modularity: Enhances the modularity of the code\n"
   ]
  },
  {
   "cell_type": "code",
   "execution_count": 4,
   "id": "f37b4099-e6e4-49bd-9a3e-2881e83fc61c",
   "metadata": {},
   "outputs": [],
   "source": [
    "#28. Explain the use to access modifiers in Python classes.\n",
    "\n",
    "'''Access Modifiers in Python Classes\n",
    "In Python, access modifiers control the visibility of class attributes and methods. Python does not have strict access modifiers like \n",
    "private, protected, and public as in some other languages. Instead, it uses naming conventions to indicate the intended level of access:\n",
    "Public: No underscores. Accessible from anywhere.'''\n",
    "\n",
    "class MyClass:\n",
    "    def __init__(self):\n",
    "        self.public_attribute = \"I am public\"\n",
    "        \n",
    "#Protected: One underscore. Intended for internal use or subclass use, but still accessible.\n",
    "class MyClass:\n",
    "    def __init__(self):\n",
    "        self._protected_attribute = \"I am protected\"\n",
    "\n",
    "        \n",
    "#Private: Two underscores. Name mangling is used to make it harder (but not impossible) to access from outside the class.\n",
    "class MyClass:\n",
    "    def __init__(self):\n",
    "        self.__private_attribute = \"I am private\"\n",
    "\n"
   ]
  },
  {
   "cell_type": "markdown",
   "id": "d7afedf6-5284-4c63-b03e-1693c7bca395",
   "metadata": {},
   "source": [
    "#29.What is inheritance in OOP?\n",
    "\n",
    "Inheritance in OOP\n",
    "Inheritance is an OOP principle where a new class (child class) inherits attributes and methods from an existing class (parent class). \n",
    "It allows code reuse and the creation of a hierarchical relationship between classes."
   ]
  },
  {
   "cell_type": "markdown",
   "id": "dd1465de-31c4-4250-9650-c6158c04b192",
   "metadata": {},
   "source": [
    "#30.Define polymorphism in OOP.\n",
    "\n",
    "Polymorphism in OOP\n",
    "Polymorphism is the ability of different classes to be treated as instances of the same class through a common interface. \n",
    "It allows methods to be used interchangeably regardless of the specific type of object."
   ]
  },
  {
   "cell_type": "markdown",
   "id": "d5498f4d-f963-4026-9c07-709ba679f5f6",
   "metadata": {},
   "source": [
    "#31.Explain method overriding in Python.\n",
    "\n",
    "Method overriding occurs when a subclass provides a specific implementation of a method already defined in its superclass. \n",
    "The overridden method in the subclass should have the same name, return type, and parameters as the method in the parent class"
   ]
  },
  {
   "cell_type": "code",
   "execution_count": 7,
   "id": "5dff4e90-31b4-44ca-b4c5-d04a940b5165",
   "metadata": {},
   "outputs": [
    {
     "name": "stdout",
     "output_type": "stream",
     "text": [
      "Woof!\n"
     ]
    }
   ],
   "source": [
    "#32.  Define a parent class Animal with a method male_sound that prints \"Generic animal sound\". Create a child class Dog inheriting from animal with a method make_sound that prints \"Woof!\".\n",
    "\n",
    "class Animal:\n",
    "    def make_sound(self):\n",
    "        print(\"Generic animal sound\")\n",
    "\n",
    "class Dog(Animal):\n",
    "    def make_sound(self):\n",
    "        print(\"Woof!\")\n",
    "\n",
    "# Example usage\n",
    "dog = Dog()\n",
    "dog.make_sound()  \n"
   ]
  },
  {
   "cell_type": "code",
   "execution_count": 4,
   "id": "c36c7323-6ce6-44b5-8058-d5fac7b2310f",
   "metadata": {},
   "outputs": [
    {
     "name": "stdout",
     "output_type": "stream",
     "text": [
      "Dog runs\n"
     ]
    }
   ],
   "source": [
    "#33.Define a method move in the animal class that prints \"Animal moves\". Override the move method in the Dog class to print \"Dog runs.\"\n",
    "\n",
    "class Animal:\n",
    "    def move(self):\n",
    "        print(\"Animal moves\")\n",
    "\n",
    "class Dog(Animal):\n",
    "    def move(self):\n",
    "        print(\"Dog runs\")\n",
    "\n",
    "# Example usage\n",
    "dog = Dog()\n",
    "dog.move()  \n"
   ]
  },
  {
   "cell_type": "code",
   "execution_count": 3,
   "id": "54e5f79f-0e6c-4999-a7b2-5aa0527a433c",
   "metadata": {},
   "outputs": [
    {
     "name": "stdout",
     "output_type": "stream",
     "text": [
      "Giving birth to live young\n",
      "Woof!\n"
     ]
    }
   ],
   "source": [
    "#34. Create a class Mammal with a method reproduce that prints \"Giving birth to live young.\" Create a class DogMammal inheriting from both Dog and Mammal.\n",
    "class Animal:\n",
    "    def make_sound(self):\n",
    "        print(\"Generic animal sound\")\n",
    "\n",
    "class Mammal:\n",
    "    def reproduce(self):\n",
    "        print(\"Giving birth to live young\")\n",
    "\n",
    "class Dog(Animal):\n",
    "    def make_sound(self):\n",
    "        print(\"Woof!\")\n",
    "\n",
    "class DogMammal(Dog, Mammal):\n",
    "    pass\n",
    "\n",
    "dog_mammal = DogMammal()\n",
    "dog_mammal.reproduce()  \n",
    "dog_mammal.make_sound()  \n"
   ]
  },
  {
   "cell_type": "code",
   "execution_count": 5,
   "id": "337fdefd-c9a0-4e2e-9cc0-ee5517e0f25d",
   "metadata": {},
   "outputs": [
    {
     "name": "stdout",
     "output_type": "stream",
     "text": [
      "Bark!\n"
     ]
    }
   ],
   "source": [
    "#35. Create a class GermanShepherd inheriting from Dog and override the make_sound method to print \"Bark!\"\n",
    "\n",
    "class Dog:\n",
    "    def make_sound(self):\n",
    "        print(\"Woof!\")\n",
    "\n",
    "class GermanShepherd(Dog):\n",
    "    def make_sound(self):\n",
    "        print(\"Bark!\")\n",
    "\n",
    "gs = GermanShepherd()\n",
    "gs.make_sound() \n"
   ]
  },
  {
   "cell_type": "code",
   "execution_count": 6,
   "id": "1d09d65c-7128-4ab0-9f1e-6d09630076b4",
   "metadata": {},
   "outputs": [
    {
     "name": "stdout",
     "output_type": "stream",
     "text": [
      "Canine\n",
      "Labrador\n"
     ]
    }
   ],
   "source": [
    "#36. Define constructors in both the animal and Dog classes with different initialization parameters.\n",
    "\n",
    "class Animal:\n",
    "    def __init__(self, species):\n",
    "        self.species = species\n",
    "\n",
    "class Dog(Animal):\n",
    "    def __init__(self, species, breed):\n",
    "        super().__init__(species)\n",
    "        self.breed = breed\n",
    "\n",
    "dog = Dog(\"Canine\", \"Labrador\")\n",
    "print(dog.species)  \n",
    "print(dog.breed)    \n",
    "\n"
   ]
  },
  {
   "cell_type": "markdown",
   "id": "818a1e47-af01-4a2f-942b-f1e25775170e",
   "metadata": {},
   "source": [
    "#37. What is abstraction in Python? How is it implemented?\n",
    "Abstraction in Python\n",
    "Abstraction is an OOP concept that hides the complex implementation details and shows only the necessary features of an object. It is implemented using abstract classes and methods in Python, which are defined in the abc module.\n",
    "\n",
    "Example of Abstraction:\n",
    "\n",
    "python\n",
    "Copy code\n",
    "from abc import ABC, abstractmethod\n",
    "\n",
    "class Animal(ABC):\n",
    "    @abstractmethod\n",
    "    def make_sound(self):\n",
    "        pass\n",
    "\n",
    "class Dog(Animal):\n",
    "    def make_sound(self):\n",
    "        print(\"Woof!\")"
   ]
  },
  {
   "cell_type": "markdown",
   "id": "69b20c46-a01f-44cb-8e4b-c85e9d04c43d",
   "metadata": {},
   "source": [
    "#38..Explain the importance of abstraction in object-oriented programming.\n",
    "Importance of Abstraction in OOP\n",
    "Reduces Complexity: Simplifies complex systems by exposing only relevant information.\n",
    "Enhances Code Reusability: Allows developers to focus on high-level functionality without worrying about the low-level details.\n",
    "Improves Maintainability: Makes it easier to update and maintain code by separating interface from implementation.\n",
    "Encourages Modularity: Promotes the development of modular code, which can be independently developed and tested.\n",
    "\n",
    "\n",
    "\n",
    "\n",
    "\n"
   ]
  },
  {
   "cell_type": "markdown",
   "id": "3d4527fe-7e2c-4fe5-ba0d-a1f25c29e5f2",
   "metadata": {},
   "source": [
    "#39. How are abstract methods different from regular methods in Python?\n",
    "Abstract methods are declared in an abstract class and do not contain an implementation. They must be overridden in any subclass. Regular methods have complete implementations and can be used directly."
   ]
  },
  {
   "cell_type": "code",
   "execution_count": 10,
   "id": "ba233ee5-f8ec-45cf-95cb-ef3de511ad97",
   "metadata": {},
   "outputs": [
    {
     "name": "stdout",
     "output_type": "stream",
     "text": [
      "Woof!\n",
      "Meow!\n"
     ]
    }
   ],
   "source": [
    "#40. How can you achieve abstraction using interfaces in Python? \n",
    "\n",
    "'''In Python, interfaces can be achieved using abstract base classes (ABCs) from the abc module. An ABC can contain one or more abstract\n",
    "methods that must be implemented by any concrete subclass.'''\n",
    "\n",
    "from abc import ABC, abstractmethod\n",
    "\n",
    "class Animal(ABC):\n",
    "    @abstractmethod\n",
    "    def make_sound(self):\n",
    "        pass\n",
    "\n",
    "class Dog(Animal):\n",
    "    def make_sound(self):\n",
    "        print(\"Woof!\")\n",
    "\n",
    "class Cat(Animal):\n",
    "    def make_sound(self):\n",
    "        print(\"Meow!\")\n",
    "\n",
    "# Create instances of Dog and Cat and call their make_sound methods\n",
    "dog = Dog()\n",
    "cat = Cat()\n",
    "\n",
    "dog.make_sound()  \n",
    "cat.make_sound()  \n",
    "\n",
    "\n",
    "\n",
    "\n"
   ]
  },
  {
   "cell_type": "code",
   "execution_count": null,
   "id": "6f8058c6-3a87-48ea-a3b9-4914d00e2d66",
   "metadata": {},
   "outputs": [],
   "source": [
    "#41. Can you provide an example of how abstraction can be utilized to create a common interface for a group of related classes in Python?\n",
    "\n",
    "from abc import ABC, abstractmethod\n",
    "\n",
    "class Shape(ABC):\n",
    "    @abstractmethod\n",
    "    def area(self):\n",
    "        pass\n",
    "\n",
    "class Circle(Shape):\n",
    "    def __init__(self, radius):\n",
    "        self.radius = radius\n",
    "    \n",
    "    def area(self):\n",
    "        return 3.14 * self.radius ** 2\n",
    "\n",
    "class Square(Shape):\n",
    "    def __init__(self, side):\n",
    "        self.side = side\n",
    "    \n",
    "    def area(self):\n",
    "        return self.side ** 2\n",
    "\n",
    "shapes = [Circle(5), Square(4)]\n",
    "for shape in shapes:\n",
    "    print(shape.area())\n"
   ]
  },
  {
   "cell_type": "markdown",
   "id": "59dcc9f3-1491-40b7-9d5b-da0e3ac179a0",
   "metadata": {},
   "source": [
    "#42. How does Python achieve polymorphism through method overriding?\n",
    "\n",
    "Polymorphism in Python allows different classes to be treated as instances of the same class through method overriding. \n",
    "The method in the child class overrides the method in the parent class, allowing different behaviors."
   ]
  },
  {
   "cell_type": "code",
   "execution_count": 11,
   "id": "2022cd88-1ff9-4dad-ae66-0a8a0e3e66a6",
   "metadata": {},
   "outputs": [
    {
     "name": "stdout",
     "output_type": "stream",
     "text": [
      "Woof!\n"
     ]
    }
   ],
   "source": [
    "#43. Define a base class with a method and a subclass that overrides the method.\n",
    "class Animal:\n",
    "    def make_sound(self):\n",
    "        print(\"Generic animal sound\")\n",
    "\n",
    "class Dog(Animal):\n",
    "    def make_sound(self):\n",
    "        print(\"Woof!\")\n",
    "\n",
    "dog = Dog()\n",
    "dog.make_sound()\n"
   ]
  },
  {
   "cell_type": "code",
   "execution_count": 14,
   "id": "f6800c45-40bd-4789-9bbd-62de6596c2f0",
   "metadata": {},
   "outputs": [
    {
     "name": "stdout",
     "output_type": "stream",
     "text": [
      "Woof!\n",
      "Meow!\n"
     ]
    }
   ],
   "source": [
    "#44.Define a base class and multiple subclasses with overridden methods.\n",
    "\n",
    "class Animal:\n",
    "    def make_sound(self):\n",
    "        print(\"Generic animal sound\")\n",
    "\n",
    "class Dog(Animal):\n",
    "    def make_sound(self):\n",
    "        print(\"Woof!\")\n",
    "\n",
    "class Cat(Animal):\n",
    "    def make_sound(self):\n",
    "        print(\"Meow!\")\n",
    "\n",
    "animals = [Dog(), Cat()]\n",
    "for animal in animals:\n",
    "    animal.make_sound()\n"
   ]
  },
  {
   "cell_type": "markdown",
   "id": "b44e9a15-eeab-46b3-8aec-90e3e1e7ccbb",
   "metadata": {},
   "source": [
    "#45. How does polymorphism improve code readability and reusability?\n",
    "\n",
    "Polymorphism allows for code that works with objects of different types through a common interface, improving readability and reusability. It lets you write more generic and flexible code."
   ]
  },
  {
   "cell_type": "code",
   "execution_count": null,
   "id": "77fac6ef-a416-4cec-9118-ed40c8030b28",
   "metadata": {},
   "outputs": [],
   "source": [
    "#46. Describe how Python supports polymorphism with duck typing.\n",
    "\n",
    "'''Python uses duck typing, where the suitability of an object is determined by the presence of certain methods and properties,\n",
    "rather than the actual type of the object.'''\n",
    "class Duck:\n",
    "    def make_sound(self):\n",
    "        print(\"Quack!\")\n",
    "\n",
    "class Dog:\n",
    "    def make_sound(self):\n",
    "        print(\"Woof!\")\n",
    "\n",
    "def make_animal_sound(animal):\n",
    "    animal.make_sound()\n",
    "\n",
    "duck = Duck()\n",
    "dog = Dog()\n",
    "make_animal_sound(duck)  \n",
    "make_animal_sound(dog)   \n"
   ]
  },
  {
   "cell_type": "code",
   "execution_count": null,
   "id": "b1204174-bfb4-4e9d-ba45-f08a39cda209",
   "metadata": {},
   "outputs": [],
   "source": [
    "#47. How do you achieve encapsulation in Python?\n",
    "\n",
    "class BankAccount:\n",
    "    def __init__(self):\n",
    "        self.__balance = 0\n",
    "    \n",
    "    def deposit(self, amount):\n",
    "        if amount > 0:\n",
    "            self.__balance += amount\n",
    "    \n",
    "    def withdraw(self, amount):\n",
    "        if amount > 0 and amount <= self.__balance:\n",
    "            self.__balance -= amount\n",
    "    \n",
    "    def check_balance(self):\n",
    "        return self.__balance\n"
   ]
  },
  {
   "cell_type": "code",
   "execution_count": 12,
   "id": "1ba7d335-e1e8-476d-8fee-f781de0c6e42",
   "metadata": {},
   "outputs": [
    {
     "ename": "NameError",
     "evalue": "name 'BankAccount' is not defined",
     "output_type": "error",
     "traceback": [
      "\u001b[0;31m---------------------------------------------------------------------------\u001b[0m",
      "\u001b[0;31mNameError\u001b[0m                                 Traceback (most recent call last)",
      "Cell \u001b[0;32mIn[12], line 3\u001b[0m\n\u001b[1;32m      1\u001b[0m \u001b[38;5;66;03m#48.\u001b[39;00m\n\u001b[0;32m----> 3\u001b[0m account \u001b[38;5;241m=\u001b[39m \u001b[43mBankAccount\u001b[49m()\n\u001b[1;32m      4\u001b[0m \u001b[38;5;28mprint\u001b[39m(account\u001b[38;5;241m.\u001b[39m_BankAccount__balance)  \u001b[38;5;66;03m# Accessing private attribute\u001b[39;00m\n",
      "\u001b[0;31mNameError\u001b[0m: name 'BankAccount' is not defined"
     ]
    }
   ],
   "source": [
    "#48. Can encapsulation be bypassed in Python? If so, how?\n",
    "\n",
    "'''Yes, encapsulation can be bypassed using name mangling. Private attributes can be accessed with the _ClassName__attribute syntax.'''\n",
    "account = BankAccount()\n",
    "print(account._BankAccount__balance)  # Accessing private attribute\n"
   ]
  },
  {
   "cell_type": "code",
   "execution_count": null,
   "id": "5a542962-9c42-4c3c-8155-9b5505e08100",
   "metadata": {},
   "outputs": [],
   "source": [
    "#49. Implement a class BankAccount with a private balance attribute. Include methods to deposit, withdraw, and check the balance.\n",
    "\n",
    "class BankAccount:\n",
    "    def __init__(self):\n",
    "        self.__balance = 0\n",
    "    \n",
    "    def deposit(self, amount):\n",
    "        if amount > 0:\n",
    "            self.__balance += amount\n",
    "    \n",
    "    def withdraw(self, amount):\n",
    "        if amount > 0 and amount <= self.__balance:\n",
    "            self.__balance -= amount\n",
    "    \n",
    "    def check_balance(self):\n",
    "        return self.__balance\n",
    "\n",
    "account = BankAccount()\n",
    "account.deposit(100)\n",
    "account.withdraw(50)\n",
    "print(account.check_balance())  \n"
   ]
  },
  {
   "cell_type": "code",
   "execution_count": 13,
   "id": "41d138c8-26f6-4c60-8d7a-22de5be02dc8",
   "metadata": {},
   "outputs": [
    {
     "name": "stdout",
     "output_type": "stream",
     "text": [
      "alice@example.com\n",
      "newalice@example.com\n"
     ]
    }
   ],
   "source": [
    "#50. Develop a Person class with private attributes name and email, and methods to set and get the email.\n",
    "\n",
    "class Person:\n",
    "    def __init__(self, name, email):\n",
    "        self.__name = name\n",
    "        self.__email = email\n",
    "    \n",
    "    def set_email(self, email):\n",
    "        self.__email = email\n",
    "    \n",
    "    def get_email(self):\n",
    "        return self.__email\n",
    "\n",
    "person = Person(\"Alice\", \"alice@example.com\")\n",
    "print(person.get_email())  \n",
    "person.set_email(\"newalice@example.com\")\n",
    "print(person.get_email()) \n"
   ]
  },
  {
   "cell_type": "markdown",
   "id": "919ce17b-2a31-4f1d-9b78-4b83daae4765",
   "metadata": {},
   "source": [
    "#51. Why is encapsulation considered a pillar of object-oriented programming (OOP)?\n",
    "\n",
    "\n",
    "Encapsulation is considered a pillar of OOP because it:\n",
    "\n",
    ".Protects data: Prevents unauthorized access and modification.\n",
    ".Promotes modularity: Encapsulates data and methods within classes, making the code more organized and modular.\n",
    ".Improves maintainability: Encapsulated code is easier to understand, maintain, and modify.\n",
    ".Enhances security: By restricting access to certain parts of an object, encapsulation helps secure sensitive data."
   ]
  },
  {
   "cell_type": "code",
   "execution_count": 15,
   "id": "e5afe8be-54e9-4076-b59a-d869423366e0",
   "metadata": {},
   "outputs": [
    {
     "name": "stdout",
     "output_type": "stream",
     "text": [
      "Before the function execution.\n",
      "The function is executing.\n",
      "After the function execution.\n"
     ]
    }
   ],
   "source": [
    "#52.Create a decorator in Python that adds functionality to a simple function by printing a message before and after the function execution.\n",
    "\n",
    "def my_decorator(func):\n",
    "    def wrapper():\n",
    "        print(\"Before the function execution.\")\n",
    "        func()\n",
    "        print(\"After the function execution.\")\n",
    "    return wrapper\n",
    "\n",
    "@my_decorator\n",
    "def my_function():\n",
    "    print(\"The function is executing.\")\n",
    "\n",
    "my_function()\n",
    "\n"
   ]
  },
  {
   "cell_type": "code",
   "execution_count": 16,
   "id": "0ac4e52c-0bc0-4b98-91b3-c47987b8de61",
   "metadata": {},
   "outputs": [
    {
     "name": "stdout",
     "output_type": "stream",
     "text": [
      "Before the function execution: my_function\n",
      "The function is executing with argument 10.\n",
      "After the function execution: my_function\n"
     ]
    }
   ],
   "source": [
    "#53.  Modify the decorator to accept arguments and print the function name along with the message.\n",
    "\n",
    "def my_decorator(func):\n",
    "    def wrapper(*args, **kwargs):\n",
    "        print(f\"Before the function execution: {func.__name__}\")\n",
    "        result = func(*args, **kwargs)\n",
    "        print(f\"After the function execution: {func.__name__}\")\n",
    "        return result\n",
    "    return wrapper\n",
    "\n",
    "@my_decorator\n",
    "def my_function(x):\n",
    "    print(f\"The function is executing with argument {x}.\")\n",
    "\n",
    "my_function(10)\n",
    "\n"
   ]
  },
  {
   "cell_type": "code",
   "execution_count": null,
   "id": "e6068e55-9d20-4dc7-88fc-e0443b9b3cde",
   "metadata": {},
   "outputs": [],
   "source": [
    "#54. Create two decorators, and apply them to a single function. Ensure that they execute in the order they are applied\n",
    "\n",
    "def decorator_one(func):\n",
    "    def wrapper(*args, **kwargs):\n",
    "        print(\"Decorator One - Before the function\")\n",
    "        result = func(*args, **kwargs)\n",
    "        print(\"Decorator One - After the function\")\n",
    "        return result\n",
    "    return wrapper\n",
    "\n",
    "def decorator_two(func):\n",
    "    def wrapper(*args, **kwargs):\n",
    "        print(\"Decorator Two - Before the function\")\n",
    "        result = func(*args, **kwargs)\n",
    "        print(\"Decorator Two - After the function\")\n",
    "        return result\n",
    "    return wrapper\n",
    "\n",
    "@decorator_one\n",
    "@decorator_two\n",
    "def my_function(x):\n",
    "    print(f\"Function is running with argument {x}.\")\n",
    "\n",
    "my_function(10)\n"
   ]
  },
  {
   "cell_type": "code",
   "execution_count": null,
   "id": "ecf58f0b-f252-4f6b-9881-6b1bce8ad6f7",
   "metadata": {},
   "outputs": [],
   "source": [
    "#55.  Modify the decorator to accept and pass function arguments to the wrapped function.\n",
    "\n",
    "def my_decorator(func):\n",
    "    def wrapper(*args, **kwargs):\n",
    "        print(f\"Before the function execution: {func.__name__}\")\n",
    "        result = func(*args, **kwargs)\n",
    "        print(f\"After the function execution: {func.__name__}\")\n",
    "        return result\n",
    "    return wrapper\n",
    "\n",
    "@my_decorator\n",
    "def my_function(x, y):\n",
    "    print(f\"The function is executing with arguments {x} and {y}.\")\n",
    "    return x + y\n",
    "\n",
    "print(my_function(10, 20))\n",
    "\n"
   ]
  },
  {
   "cell_type": "code",
   "execution_count": null,
   "id": "f18949df-ccb2-4b02-991a-ddf5a4f184f4",
   "metadata": {},
   "outputs": [],
   "source": [
    "#56.  Create a decorator that preserves the metadata of the original function.\n",
    "\n",
    "from functools import wraps\n",
    "\n",
    "def my_decorator(func):\n",
    "    @wraps(func)\n",
    "    def wrapper(*args, **kwargs):\n",
    "        print(f\"Before the function execution: {func.__name__}\")\n",
    "        result = func(*args, **kwargs)\n",
    "        print(f\"After the function execution: {func.__name__}\")\n",
    "        return result\n",
    "    return wrapper\n",
    "\n",
    "@my_decorator\n",
    "def my_function(x, y):\n",
    "    \"\"\"This is my_function.\"\"\"\n",
    "    print(f\"The function is executing with arguments {x} and {y}.\")\n",
    "    return x + y\n",
    "\n",
    "print(my_function.__name__)  \n",
    "print(my_function.__doc__)   \n"
   ]
  },
  {
   "cell_type": "code",
   "execution_count": null,
   "id": "fcb7f9a6-734b-446e-ae12-a4e62108bd24",
   "metadata": {},
   "outputs": [],
   "source": [
    "#57.  Create a Python class Calculator with a static method add that takes in two numbers and returns their sum.\n",
    "\n",
    "class Calculator:\n",
    "    @staticmethod\n",
    "    def add(a, b):\n",
    "        return a + b\n",
    "\n",
    "print(Calculator.add(5, 3))  \n"
   ]
  },
  {
   "cell_type": "code",
   "execution_count": 7,
   "id": "d7ab19c0-961d-4d90-9092-aba9accfb694",
   "metadata": {},
   "outputs": [],
   "source": [
    "#58.  Create a Python class Employee with a class method get_employee_count that returns the total number of employees created.\n",
    "\n",
    "class Employee:\n",
    "    employee_count = 0\n",
    "    \n",
    "    def __init__(self):\n",
    "        Employee.employee_count += 1\n",
    "\n",
    "    @classmethod\n",
    "    def get_employee_count(cls):\n",
    "        return cls.employee_count\n",
    "\n",
    "# Example usage\n",
    "e1 = Employee()\n",
    "e2 = Employee()\n",
    "print(Employee.get_employee_count())  \n"
   ]
  },
  {
   "cell_type": "code",
   "execution_count": null,
   "id": "2bdf3d9a-bf1d-4247-8037-08db6fed5187",
   "metadata": {},
   "outputs": [],
   "source": [
    "#59.  Create a Python class StringFormatter with a static method reverse_string that takes a string as input and returns its reverse.\n",
    "\n",
    "class StringFormatter:\n",
    "    @staticmethod\n",
    "    def reverse_string(s):\n",
    "        return s[::-1]\n",
    "\n",
    "print(StringFormatter.reverse_string(\"hello\"))  \n"
   ]
  },
  {
   "cell_type": "code",
   "execution_count": 17,
   "id": "9c2cabf0-9e21-46c8-8937-c5037d4b1693",
   "metadata": {},
   "outputs": [
    {
     "name": "stdout",
     "output_type": "stream",
     "text": [
      "78.5\n"
     ]
    }
   ],
   "source": [
    "#60.  Create a Python class Circle with a class method calculate_area that calculates the area of a circle given its radius.\n",
    "\n",
    "class Circle:\n",
    "    @classmethod\n",
    "    def calculate_area(cls, radius):\n",
    "        return 3.14 * radius ** 2\n",
    "\n",
    "print(Circle.calculate_area(5)) \n"
   ]
  },
  {
   "cell_type": "code",
   "execution_count": null,
   "id": "33c522e7-6238-48c4-a08c-1307f1bfe049",
   "metadata": {},
   "outputs": [],
   "source": [
    "#61.  Create a Python class TemperatureConverter with a static method celsius_to_fahrenheit that converts Celsius to Fahrenheit.\n",
    "\n",
    "class TemperatureConverter:\n",
    "    @staticmethod\n",
    "    def celsius_to_fahrenheit(celsius):\n",
    "        return (celsius * 9/5) + 32\n",
    "\n",
    "print(TemperatureConverter.celsius_to_fahrenheit(25))  \n"
   ]
  },
  {
   "cell_type": "code",
   "execution_count": null,
   "id": "cd993ae3-2218-40a1-a546-48924dd8a36c",
   "metadata": {},
   "outputs": [],
   "source": [
    "#62.   What is the purpose of the __str__() method in Python classes? Provide an example.\n",
    "\n",
    "class Person:\n",
    "    def __init__(self, name, age):\n",
    "        self.name = name\n",
    "        self.age = age\n",
    "    \n",
    "    def __str__(self):\n",
    "        return f\"Person(name={self.name}, age={self.age})\"\n",
    "\n",
    "p = Person(\"Alice\", 30)\n",
    "print(p)  \n"
   ]
  },
  {
   "cell_type": "code",
   "execution_count": null,
   "id": "44104107-8d36-40fa-a51b-75dfc8bb61ef",
   "metadata": {},
   "outputs": [],
   "source": [
    "#63.  How does the __len__() method work in Python? Provide an example.\n",
    "\n",
    "class MyList:\n",
    "    def __init__(self, items):\n",
    "        self.items = items\n",
    "    \n",
    "    def __len__(self):\n",
    "        return len(self.items)\n",
    "\n",
    "my_list = MyList([1, 2, 3, 4])\n",
    "print(len(my_list))  \n"
   ]
  },
  {
   "cell_type": "code",
   "execution_count": null,
   "id": "80dc0713-86c4-468c-a1bb-5e5421b64b90",
   "metadata": {},
   "outputs": [],
   "source": [
    "#64.  Explain the usage of the __add__() method in Python classes. Provide an example.\n",
    "\n",
    "class Point:\n",
    "    def __init__(self, x, y):\n",
    "        self.x = x\n",
    "        self.y = y\n",
    "    \n",
    "    def __add__(self, other):\n",
    "        return Point(self.x + other.x, self.y + other.y)\n",
    "    \n",
    "    def __str__(self):\n",
    "        return f\"Point({self.x}, {self.y})\"\n",
    "\n",
    "p1 = Point(1, 2)\n",
    "p2 = Point(3, 4)\n",
    "p3 = p1 + p2\n",
    "print(p3)  \n"
   ]
  },
  {
   "cell_type": "code",
   "execution_count": null,
   "id": "43007a09-88a5-40c5-88c5-62859ae557a9",
   "metadata": {},
   "outputs": [],
   "source": [
    "#65.  What is the purpose of the __getitem__() method in Python? Provide an example.\n",
    "\n",
    "class MyList:\n",
    "    def __init__(self, items):\n",
    "        self.items = items\n",
    "    \n",
    "    def __getitem__(self, index):\n",
    "        return self.items[index]\n",
    "\n",
    "my_list = MyList([1, 2, 3, 4])\n",
    "print(my_list[1])  \n"
   ]
  },
  {
   "cell_type": "code",
   "execution_count": 18,
   "id": "93f98afe-1a3b-438c-9c54-756eb9804594",
   "metadata": {},
   "outputs": [
    {
     "name": "stdout",
     "output_type": "stream",
     "text": [
      "1\n",
      "2\n",
      "3\n"
     ]
    }
   ],
   "source": [
    "#66.   Explain the usage of the __iter__() and __next__() methods in Python. Provide an example using iterators.\n",
    "\n",
    "\n",
    "class MyIterator:\n",
    "    def __init__(self, items):\n",
    "        self.items = items\n",
    "        self.index = 0\n",
    "    \n",
    "    def __iter__(self):\n",
    "        return self\n",
    "    \n",
    "    def __next__(self):\n",
    "        if self.index < len(self.items):\n",
    "            item = self.items[self.index]\n",
    "            self.index += 1\n",
    "            return item\n",
    "        else:\n",
    "            raise StopIteration\n",
    "\n",
    "my_iterator = MyIterator([1, 2, 3])\n",
    "for item in my_iterator:\n",
    "    print(item)\n"
   ]
  },
  {
   "cell_type": "code",
   "execution_count": 23,
   "id": "453fab91-8590-43dc-92fd-7c30cdf480f5",
   "metadata": {},
   "outputs": [
    {
     "name": "stdout",
     "output_type": "stream",
     "text": [
      "Alice\n"
     ]
    }
   ],
   "source": [
    "#67. What is the purpose of a getter method in Python? Provide an example demonstrating the use of a getter method using property decorators.\n",
    "\n",
    "'''A getter method in Python is used to retrieve the value of a private attribute. Getter methods are typically used in conjunction with the\n",
    "@property decorator to provide a way to access private attributes safely. '''\n",
    "class Person:\n",
    "    def __init__(self, name):\n",
    "        self._name = name\n",
    "\n",
    "    @property\n",
    "    def name(self):\n",
    "        return self._name\n",
    "\n",
    "p = Person(\"Alice\")\n",
    "print(p.name)  \n",
    "\n"
   ]
  },
  {
   "cell_type": "code",
   "execution_count": 20,
   "id": "bb5127bd-0f9c-4b39-acac-0d8179aa4967",
   "metadata": {},
   "outputs": [],
   "source": [
    "#68. Explain the role of setter methods in Python. Demonstrate how to use a setter method to modify a class attribute using property decorators.\n",
    "\n",
    "''' Setter methods are used to modify the value of a private attribute. They are typically used with the @property decorator's setter functionality\n",
    "to control how attributes are modified.'''\n",
    "\n",
    "class Person:\n",
    "    def __init__(self, name):\n",
    "        self._name = name\n",
    "\n",
    "    @property\n",
    "    def name(self):\n",
    "        return self._name\n",
    "\n",
    "    @name.setter\n",
    "    def name(self, new_name):\n",
    "        if isinstance(new_name, str) and new_name:\n",
    "            self._name = new_name\n",
    "        else:\n",
    "            raise ValueError(\"Name must be a non-empty string\")\n",
    "\n",
    "p = Person(\"Alice\")\n",
    "p.name = \"Bob\"\n",
    "print(p.name)\n"
   ]
  },
  {
   "cell_type": "code",
   "execution_count": 21,
   "id": "067821ca-b1b7-43a7-ad19-da44c7e5812a",
   "metadata": {},
   "outputs": [],
   "source": [
    "#69.  What is the purpose of the @property decorator in Python? Provide an example illustrating its usage.\n",
    "\n",
    "''' The @property decorator in Python is used to define methods that act as getters, setters, and deleters for class attributes.\n",
    "It allows for encapsulation and control over how attributes are accessed and modified.'''\n",
    "\n",
    "class Rectangle:\n",
    "    def __init__(self, width, height):\n",
    "        self._width = width\n",
    "        self._height = height\n",
    "\n",
    "    @property\n",
    "    def area(self):\n",
    "        return self._width * self._height\n",
    "\n",
    "rect = Rectangle(5, 10)\n",
    "print(rect.area)  \n"
   ]
  },
  {
   "cell_type": "code",
   "execution_count": 22,
   "id": "fa2ca4b5-c0f8-430b-8d28-585623a8f123",
   "metadata": {},
   "outputs": [],
   "source": [
    "#70.  Explain the use of the @deleter decorator in Python property decorators. Provide a code example demonstrating its application.\n",
    "\n",
    "'''The @deleter decorator is used to define a method that deletes a property. It allows for cleanup or additional actions when a property\n",
    "is deleted.'''\n",
    "\n",
    "class Person:\n",
    "    def __init__(self, name):\n",
    "        self._name = name\n",
    "\n",
    "    @property\n",
    "    def name(self):\n",
    "        return self._name\n",
    "\n",
    "    @name.setter\n",
    "    def name(self, new_name):\n",
    "        if isinstance(new_name, str) and new_name:\n",
    "            self._name = new_name\n",
    "        else:\n",
    "            raise ValueError(\"Name must be a non-empty string\")\n",
    "\n",
    "    @name.deleter\n",
    "    def name(self):\n",
    "        print(f\"Deleting name: {self._name}\")\n",
    "        del self._name\n",
    "\n",
    "p = Person(\"Alice\")\n",
    "del p.name \n",
    "\n"
   ]
  },
  {
   "cell_type": "code",
   "execution_count": null,
   "id": "69ab01a8-4d0d-47a9-9ce6-48bfdb1c5458",
   "metadata": {},
   "outputs": [],
   "source": [
    "#71. How does encapsulation relate to property decorators in Python? Provide an example showcasing encapsulation using property decorators.\n",
    "\n",
    "'''Encapsulation in Python can be achieved using property decorators to control access to class attributes. This provides a way to ensure\n",
    "attributes are accessed and modified safely.'''\n",
    "\n",
    "class BankAccount:\n",
    "    def __init__(self, balance):\n",
    "        self._balance = balance\n",
    "\n",
    "    @property\n",
    "    def balance(self):\n",
    "        return self._balance\n",
    "\n",
    "    @balance.setter\n",
    "    def balance(self, amount):\n",
    "        if amount < 0:\n",
    "            raise ValueError(\"Balance cannot be negative\")\n",
    "        self._balance = amount\n",
    "\n",
    "    @balance.deleter\n",
    "    def balance(self):\n",
    "        print(\"Deleting balance\")\n",
    "        del self._balance\n",
    "\n",
    "account = BankAccount(1000)\n",
    "print(account.balance)  \n",
    "account.balance = 500\n",
    "print(account.balance)\n",
    "# account.balance = -100  # Raises ValueError: Balance cannot be negative\n",
    "del account.balance  \n"
   ]
  },
  {
   "cell_type": "code",
   "execution_count": null,
   "id": "1684c0be-956c-4727-82ca-8380f261e55c",
   "metadata": {},
   "outputs": [],
   "source": []
  }
 ],
 "metadata": {
  "kernelspec": {
   "display_name": "Python 3 (ipykernel)",
   "language": "python",
   "name": "python3"
  },
  "language_info": {
   "codemirror_mode": {
    "name": "ipython",
    "version": 3
   },
   "file_extension": ".py",
   "mimetype": "text/x-python",
   "name": "python",
   "nbconvert_exporter": "python",
   "pygments_lexer": "ipython3",
   "version": "3.10.8"
  }
 },
 "nbformat": 4,
 "nbformat_minor": 5
}
